{
 "cells": [
  {
   "cell_type": "markdown",
   "metadata": {},
   "source": [
    "<center><h1>HSE FCS SE ML</h1></center>\n",
    "<center><h1>\"Fast sold post prediction\" Kaggle competition</h1></center>\n",
    "<center><h2>Team name: Turbo 3D</h2></center>\n",
    "<center><h3>Daniil Kraynov, Dmitry Strokov, Danil Kolesnikov</h3></center>"
   ]
  },
  {
   "cell_type": "code",
   "execution_count": null,
   "metadata": {},
   "outputs": [],
   "source": [
    "import numpy as np\n",
    "import matplotlib.pyplot as plt\n",
    "import pandas as pd\n",
    "\n",
    "%matplotlib inline"
   ]
  },
  {
   "cell_type": "markdown",
   "metadata": {},
   "source": [
    "# Read Data"
   ]
  },
  {
   "cell_type": "code",
   "execution_count": null,
   "metadata": {},
   "outputs": [],
   "source": [
    "df = pd.read_csv('train.tsv', sep='\\t').drop(columns='Unnamed: 0')"
   ]
  },
  {
   "cell_type": "code",
   "execution_count": null,
   "metadata": {},
   "outputs": [],
   "source": [
    "df.head()"
   ]
  },
  {
   "cell_type": "code",
   "execution_count": null,
   "metadata": {},
   "outputs": [],
   "source": [
    "df.info()"
   ]
  },
  {
   "cell_type": "markdown",
   "metadata": {},
   "source": [
    "# Prepare / Encode Data"
   ]
  },
  {
   "cell_type": "code",
   "execution_count": null,
   "metadata": {},
   "outputs": [],
   "source": [
    "# Some checks to see what columns should not be considered\n",
    "print(any(df['product_id'].duplicated()))"
   ]
  },
  {
   "cell_type": "code",
   "execution_count": null,
   "metadata": {},
   "outputs": [],
   "source": [
    "from sklearn.preprocessing import OneHotEncoder, LabelEncoder\n",
    "\n",
    "import time\n",
    "import datetime\n",
    "\n",
    "def preprocess(store_data):\n",
    "    lb = LabelEncoder()\n",
    "    #ohe = OneHotEncoder()\n",
    "    \n",
    "    s = store_data.drop(columns=['product_id', 'name_text', 'desc_text', 'properties'])\n",
    "\n",
    "    # Delivery/payment encoding: 0 is false (bad), 1 is true (good)\n",
    "    s['delivery_available'] = lb.fit_transform(s['delivery_available'])\n",
    "    s['payment_available'] = lb.fit_transform(s['payment_available'])\n",
    "    # City/region encoding\n",
    "    s['city'] = lb.fit_transform(s['city'])\n",
    "    s['region'] = lb.fit_transform(s['region'])\n",
    "    # Converting date to timestamp\n",
    "    dates = s['date_created'].values\n",
    "    convert_time = lambda d: int(time.mktime(datetime.datetime.strptime(d, \"%Y-%m-%d\").timetuple()))\n",
    "    s['date_created'] = list(map(convert_time, dates))\n",
    "    # Misc\n",
    "    s['owner_id'] = lb.fit_transform(s['owner_id'])\n",
    "    \n",
    "    # Categorical features encoding\n",
    "    # Бля получается для каждой категории своя колонка будет? Все ж упадет нахуй тогда\n",
    "    # categorical_cols = ['category_id', 'city', 'region', 'subcategory_id']\n",
    "    # store_data = pd.get_dummies(store_data, columns=categorical_cols)\n",
    "    \n",
    "    return s"
   ]
  },
  {
   "cell_type": "code",
   "execution_count": null,
   "metadata": {},
   "outputs": [],
   "source": [
    "df_p = preprocess(df)"
   ]
  },
  {
   "cell_type": "code",
   "execution_count": null,
   "metadata": {},
   "outputs": [],
   "source": [
    "df_p.head()"
   ]
  },
  {
   "cell_type": "code",
   "execution_count": null,
   "metadata": {},
   "outputs": [],
   "source": [
    "df_p.info()"
   ]
  },
  {
   "cell_type": "code",
   "execution_count": null,
   "metadata": {},
   "outputs": [],
   "source": [
    "X = df_p.drop(columns=['sold_fast'])\n",
    "y = df_p['sold_fast']"
   ]
  },
  {
   "cell_type": "code",
   "execution_count": null,
   "metadata": {},
   "outputs": [],
   "source": [
    "# from sklearn.model_selection import train_test_split\n",
    "# X_train, X_test, y_train, y_test = train_test_split(X, y, test_size=0.2, random_state=42)"
   ]
  },
  {
   "cell_type": "markdown",
   "metadata": {},
   "source": [
    "# Some Assumptions / Graphs"
   ]
  },
  {
   "cell_type": "code",
   "execution_count": null,
   "metadata": {},
   "outputs": [],
   "source": [
    "for feature in ('delivery_available', 'payment_available', 'img_num', 'price'):\n",
    "    print(feature, X[feature].corr(y))"
   ]
  },
  {
   "cell_type": "markdown",
   "metadata": {},
   "source": [
    "# Fitting & Predicting"
   ]
  },
  {
   "cell_type": "code",
   "execution_count": null,
   "metadata": {},
   "outputs": [],
   "source": [
    "# To avoid kernel dying\n",
    "import os\n",
    "os.environ['KMP_DUPLICATE_LIB_OK']='True'\n",
    "from xgboost import XGBClassifier\n",
    "import xgboost as xgb"
   ]
  },
  {
   "cell_type": "code",
   "execution_count": null,
   "metadata": {},
   "outputs": [],
   "source": [
    "from sklearn import metrics\n",
    "from matplotlib.pylab import rcParams\n",
    "rcParams['figure.figsize'] = 12, 4\n",
    "\n",
    "def modelfit(alg, Xt, yt, useTrainCV=True, cv_folds=5, early_stopping_rounds=50):\n",
    "    if useTrainCV:\n",
    "        xgb_param = alg.get_xgb_params()\n",
    "        xgtrain = xgb.DMatrix(Xt, label=yt)\n",
    "        cvresult = xgb.cv(xgb_param, xgtrain, num_boost_round=alg.get_params()['n_estimators'], nfold=cv_folds,\n",
    "            metrics='auc', early_stopping_rounds=early_stopping_rounds, verbose_eval=True)\n",
    "        alg.set_params(n_estimators=cvresult.shape[0])\n",
    "    \n",
    "    #Fit the algorithm on the data\n",
    "    alg.fit(Xt, yt, eval_metric='auc')\n",
    "        \n",
    "    #Predict training set:\n",
    "    dtrain_predictions = alg.predict(Xt)\n",
    "    dtrain_predprob = alg.predict_proba(Xt)[:,1]\n",
    "        \n",
    "    #Print model report:\n",
    "    print(\"\\nModel Report\")\n",
    "    print(\"Accuracy : %.4g\" % metrics.accuracy_score(yt, dtrain_predictions))\n",
    "    print(\"AUC Score (Train): %f\" % metrics.roc_auc_score(yt, dtrain_predprob))\n",
    "                    \n",
    "    feat_imp = pd.Series(alg.get_booster().get_fscore()).sort_values(ascending=False)\n",
    "    feat_imp.plot(kind='bar', title='Feature Importances')\n",
    "    plt.ylabel('Feature Importance Score')"
   ]
  },
  {
   "cell_type": "code",
   "execution_count": null,
   "metadata": {},
   "outputs": [],
   "source": [
    "def do_gridsearch(static_params, search_params):\n",
    "    gsearch = GridSearchCV(\n",
    "        estimator = XGBClassifier(**static_params),\n",
    "        param_grid = search_params,\n",
    "        scoring='roc_auc',\n",
    "        n_jobs=4,\n",
    "        iid=False,\n",
    "        cv=5,\n",
    "        verbose=3\n",
    "    )\n",
    "    gsearch.fit(X, y)\n",
    "    return gsearch.best_params_, gsearch.best_score_"
   ]
  },
  {
   "cell_type": "code",
   "execution_count": null,
   "metadata": {
    "scrolled": true
   },
   "outputs": [],
   "source": [
    "xgb_params = {\n",
    "    'base_score': 0.5,\n",
    "    'booster': 'gbtree',\n",
    "    'objective': 'binary:logistic',\n",
    "    'colsample_bylevel': 1,\n",
    "    'gamma': 0.46,\n",
    "    'learning_rate': 0.1,\n",
    "    'n_estimators': 444,\n",
    "    'max_depth': 4,\n",
    "    'min_child_weight': 4,\n",
    "    'max_delta_step': 0,\n",
    "    'missing': None,\n",
    "    'reg_alpha': 0,\n",
    "    'reg_lambda': 1,\n",
    "    'scale_pos_weight': 1,\n",
    "    'seed': 27,\n",
    "    'silent': 1,\n",
    "    'subsample': 0.95,\n",
    "    'colsample_bytree': 0.8,\n",
    "    'nthread': 4,\n",
    "    'n_jobs': 4\n",
    "}\n",
    "\n",
    "search_params = {\n",
    "    'reg_alpha': [1e-5, 1e-2, 0.1, 1, 100]\n",
    "}\n",
    "\n",
    "#bp, bs = do_gridsearch(xgb_params, search_params)\n",
    "#bp, bs\n",
    "\n",
    "xgbm = XGBClassifier(**xgb_params)\n",
    "modelfit(xgbm, X, y)"
   ]
  },
  {
   "cell_type": "code",
   "execution_count": null,
   "metadata": {},
   "outputs": [],
   "source": [
    "from sklearn.model_selection import cross_val_score\n",
    "\n",
    "model = XGBClassifier(**xgb_params)\n",
    "\n",
    "cross_val_score(model, X, y, cv=5, scoring='roc_auc', verbose=3, n_jobs=4)"
   ]
  },
  {
   "cell_type": "code",
   "execution_count": null,
   "metadata": {},
   "outputs": [],
   "source": [
    "model = XGBClassifier()\n",
    "cross_val_score(model, X, y, cv=5, scoring='roc_auc', verbose=3, n_jobs=4)"
   ]
  },
  {
   "cell_type": "markdown",
   "metadata": {},
   "source": [
    "# Test Data Prediction"
   ]
  },
  {
   "cell_type": "code",
   "execution_count": null,
   "metadata": {},
   "outputs": [],
   "source": [
    "df_test = pd.read_csv('test_nolabel.tsv', sep='\\t').drop(columns='Unnamed: 0')\n",
    "df_test[\"sold_fast\"] = 0\n",
    "df_merged = pd.concat([df, df_test])"
   ]
  },
  {
   "cell_type": "code",
   "execution_count": null,
   "metadata": {},
   "outputs": [],
   "source": [
    "df_merged_p = preprocess(df_merged)\n",
    "df_mp = df_merged_p[:len(df)]\n",
    "df_test_mp = df_merged_p[len(df):]"
   ]
  },
  {
   "cell_type": "code",
   "execution_count": null,
   "metadata": {},
   "outputs": [],
   "source": [
    "X_fit = df_mp.drop(columns=['sold_fast'])\n",
    "y_fit = df_mp['sold_fast']\n",
    "X_actual = df_test_mp.drop(columns=['sold_fast'])"
   ]
  },
  {
   "cell_type": "code",
   "execution_count": null,
   "metadata": {},
   "outputs": [],
   "source": [
    "model = XGBClassifier(n_estimators=1000, learning_rate=0.02, max_depth=8, n_jobs=3, colsample_bytree=0.7, scale_pos_weight=1.)\n",
    "model.fit(X_fit, y_fit)\n",
    "y_actual = model.predict_proba(X_actual)[:, 1]\n",
    "y_actual"
   ]
  },
  {
   "cell_type": "code",
   "execution_count": null,
   "metadata": {},
   "outputs": [],
   "source": [
    "df_final = pd.DataFrame.from_dict({'product_id' : df_test['product_id'].values, 'score' : y_actual})\n",
    "df_final.to_csv('submission.csv', sep = ',', index = False)"
   ]
  },
  {
   "cell_type": "code",
   "execution_count": null,
   "metadata": {},
   "outputs": [],
   "source": []
  }
 ],
 "metadata": {
  "kernelspec": {
   "display_name": "Python 3",
   "language": "python",
   "name": "python3"
  },
  "language_info": {
   "codemirror_mode": {
    "name": "ipython",
    "version": 3
   },
   "file_extension": ".py",
   "mimetype": "text/x-python",
   "name": "python",
   "nbconvert_exporter": "python",
   "pygments_lexer": "ipython3",
   "version": "3.7.1"
  }
 },
 "nbformat": 4,
 "nbformat_minor": 2
}
