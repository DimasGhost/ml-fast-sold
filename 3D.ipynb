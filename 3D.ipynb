{
 "cells": [
  {
   "cell_type": "markdown",
   "metadata": {},
   "source": [
    "<center><h1>HSE FCS SE ML</h1></center>\n",
    "<center><h1>\"Fast sold post prediction\" Kaggle competition</h1></center>\n",
    "<center><h2>Team name: Turbo 3D</h2></center>\n",
    "<center><h3>Daniil Kraynov, Dmitry Strokov, Danil Kolesnikov</h3></center>"
   ]
  },
  {
   "cell_type": "code",
   "execution_count": null,
   "metadata": {},
   "outputs": [],
   "source": [
    "import numpy as np\n",
    "import matplotlib.pyplot as plt\n",
    "import pandas as pd\n",
    "\n",
    "%matplotlib inline"
   ]
  },
  {
   "cell_type": "markdown",
   "metadata": {},
   "source": [
    "# Read Data"
   ]
  },
  {
   "cell_type": "code",
   "execution_count": null,
   "metadata": {},
   "outputs": [],
   "source": [
    "df = pd.read_csv('train.tsv', sep='\\t').drop(columns='Unnamed: 0')"
   ]
  },
  {
   "cell_type": "code",
   "execution_count": null,
   "metadata": {},
   "outputs": [],
   "source": [
    "df.head()"
   ]
  },
  {
   "cell_type": "code",
   "execution_count": null,
   "metadata": {},
   "outputs": [],
   "source": [
    "df.info()"
   ]
  },
  {
   "cell_type": "markdown",
   "metadata": {},
   "source": [
    "# Prepare / Encode Data"
   ]
  },
  {
   "cell_type": "code",
   "execution_count": null,
   "metadata": {},
   "outputs": [],
   "source": [
    "# Some checks to see what columns should not be considered\n",
    "print(any(df['product_id'].duplicated()))"
   ]
  },
  {
   "cell_type": "code",
   "execution_count": null,
   "metadata": {},
   "outputs": [],
   "source": [
    "from sklearn.preprocessing import OneHotEncoder, LabelEncoder\n",
    "\n",
    "def preprocess(store_data):\n",
    "    lb = LabelEncoder()\n",
    "    #ohe = OneHotEncoder()\n",
    "    \n",
    "    s = store_data.drop(columns=['product_id', 'name_text', 'desc_text', 'properties'])\n",
    "\n",
    "    # Delivery/payment encoding: 0 is false (bad), 1 is true (good)\n",
    "    s['delivery_available'] = lb.fit_transform(s['delivery_available'])\n",
    "    s['payment_available'] = lb.fit_transform(s['payment_available'])\n",
    "    # City/region encoding\n",
    "    s['city'] = lb.fit_transform(s['city'])\n",
    "    s['region'] = lb.fit_transform(s['region'])\n",
    "    # Splitting date: y/m/d\n",
    "    dates_split = list(map(lambda date: date.split('-'), s['date_created'].values))\n",
    "    s['year_created'] = list(map(lambda split_date: int(split_date[0]), dates_split))\n",
    "    s['month_created'] = list(map(lambda split_date: int(split_date[1]), dates_split))\n",
    "    s['day_created'] = list(map(lambda split_date: int(split_date[2]), dates_split))\n",
    "    s = s.drop(columns=['date_created'])\n",
    "    # Misc\n",
    "    s['owner_id'] = lb.fit_transform(s['owner_id'])\n",
    "    \n",
    "    # Categorical features encoding\n",
    "    # Бля получается для каждой категории своя колонка будет? Все ж упадет нахуй тогда\n",
    "    # categorical_cols = ['category_id', 'city', 'region', 'subcategory_id']\n",
    "    # store_data = pd.get_dummies(store_data, columns=categorical_cols)\n",
    "    \n",
    "    return s"
   ]
  },
  {
   "cell_type": "code",
   "execution_count": null,
   "metadata": {},
   "outputs": [],
   "source": [
    "df_p = preprocess(df)"
   ]
  },
  {
   "cell_type": "code",
   "execution_count": null,
   "metadata": {},
   "outputs": [],
   "source": [
    "df_p.head()"
   ]
  },
  {
   "cell_type": "code",
   "execution_count": null,
   "metadata": {},
   "outputs": [],
   "source": [
    "df_p.info()"
   ]
  },
  {
   "cell_type": "code",
   "execution_count": null,
   "metadata": {},
   "outputs": [],
   "source": [
    "from sklearn.model_selection import train_test_split\n",
    "\n",
    "X = df_p.drop(columns=['sold_fast'])\n",
    "y = df_p['sold_fast']\n",
    "\n",
    "print(X.columns)\n",
    "\n",
    "X_train, X_test, y_train, y_test = train_test_split(X, y, \n",
    "                                                    test_size=0.2,    \n",
    "                                                    random_state=42)"
   ]
  },
  {
   "cell_type": "markdown",
   "metadata": {},
   "source": [
    "# Some Assumptions / Graphs"
   ]
  },
  {
   "cell_type": "code",
   "execution_count": null,
   "metadata": {},
   "outputs": [],
   "source": [
    "for feature in ('delivery_available', 'payment_available', 'img_num', 'price',\n",
    "                'year_created', 'month_created'):\n",
    "    print(feature, X[feature].corr(y))"
   ]
  },
  {
   "cell_type": "markdown",
   "metadata": {},
   "source": [
    "# Fitting & Predicting"
   ]
  },
  {
   "cell_type": "code",
   "execution_count": null,
   "metadata": {},
   "outputs": [],
   "source": [
    "model = Model()\n",
    "\n",
    "model.fit(X_train, y_train)\n",
    "\n",
    "y_pred = model.predict(X_test)\n",
    "\n",
    "# Добавить тест roc-auc y_test / y_pred"
   ]
  },
  {
   "cell_type": "markdown",
   "metadata": {},
   "source": [
    "# Test Data Prediction"
   ]
  },
  {
   "cell_type": "code",
   "execution_count": null,
   "metadata": {},
   "outputs": [],
   "source": [
    "df_test = pd.read_csv('test_nolabel.tsv', sep='\\t').drop(columns='Unnamed: 0')\n",
    "\n",
    "X_actual = preprocess(df_test)\n",
    "\n",
    "y_actual = model.predict_proba(X_actual)\n",
    "\n",
    "df_final = pd.DataFrame.from_dict({'product_id' : df_test['product_id'].values, 'score' : y_actual})\n",
    "df_final.to_csv('submission.csv', sep = ',', index = False)"
   ]
  },
  {
   "cell_type": "code",
   "execution_count": null,
   "metadata": {},
   "outputs": [],
   "source": []
  }
 ],
 "metadata": {
  "kernelspec": {
   "display_name": "Python 3",
   "language": "python",
   "name": "python3"
  },
  "language_info": {
   "codemirror_mode": {
    "name": "ipython",
    "version": 3
   },
   "file_extension": ".py",
   "mimetype": "text/x-python",
   "name": "python",
   "nbconvert_exporter": "python",
   "pygments_lexer": "ipython3",
   "version": "3.7.1"
  }
 },
 "nbformat": 4,
 "nbformat_minor": 2
}
